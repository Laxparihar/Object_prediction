{
 "cells": [
  {
   "cell_type": "code",
   "execution_count": 1,
   "id": "7e7c2c09",
   "metadata": {},
   "outputs": [],
   "source": [
    "# !pip install ultralytics"
   ]
  },
  {
   "cell_type": "code",
   "execution_count": 1,
   "id": "faf04dce",
   "metadata": {},
   "outputs": [],
   "source": [
    "from ultralytics import YOLO\n",
    "import cv2"
   ]
  },
  {
   "cell_type": "code",
   "execution_count": 2,
   "id": "b5848b61",
   "metadata": {},
   "outputs": [],
   "source": [
    "model = YOLO(\"best.pt\")"
   ]
  },
  {
   "cell_type": "code",
   "execution_count": 3,
   "id": "ddedea05",
   "metadata": {},
   "outputs": [
    {
     "name": "stderr",
     "output_type": "stream",
     "text": [
      "\n",
      "image 1/1 E:\\Itvedant\\Course\\08. DL NLP AI\\3. CV\\Object_Detection\\img1.jpg: 480x640 1 dog, 1 cat, 3627.7ms\n",
      "Speed: 20.7ms preprocess, 3627.7ms inference, 32.4ms postprocess per image at shape (1, 3, 640, 640)\n"
     ]
    }
   ],
   "source": [
    "results = model(\"img1.jpg\", show=True)\n",
    "cv2.waitKey(0)\n",
    "cv2.destroyAllWindows()"
   ]
  },
  {
   "cell_type": "code",
   "execution_count": 4,
   "id": "f49dfb62",
   "metadata": {},
   "outputs": [
    {
     "name": "stderr",
     "output_type": "stream",
     "text": [
      "\n",
      "image 1/1 E:\\Itvedant\\Course\\08. DL NLP AI\\3. CV\\Object_Detection\\img2.jpg: 608x640 1 dog, 1 cat, 3789.1ms\n",
      "Speed: 22.0ms preprocess, 3789.1ms inference, 0.0ms postprocess per image at shape (1, 3, 640, 640)\n"
     ]
    }
   ],
   "source": [
    "results = model(\"img2.jpg\", show=True)\n",
    "cv2.waitKey(0)\n",
    "cv2.destroyAllWindows()"
   ]
  },
  {
   "cell_type": "code",
   "execution_count": 5,
   "id": "3e00640e",
   "metadata": {},
   "outputs": [],
   "source": [
    "# pretrained yolo models\n",
    "model2 = YOLO(\"yolov8s.pt\")"
   ]
  },
  {
   "cell_type": "code",
   "execution_count": 6,
   "id": "142e096d",
   "metadata": {},
   "outputs": [
    {
     "name": "stderr",
     "output_type": "stream",
     "text": [
      "\n",
      "image 1/1 E:\\Itvedant\\Course\\08. DL NLP AI\\3. CV\\Object_Detection\\avengers.jpg: 416x640 2 persons, 1 motorcycle, 849.0ms\n",
      "Speed: 0.0ms preprocess, 849.0ms inference, 16.5ms postprocess per image at shape (1, 3, 640, 640)\n"
     ]
    }
   ],
   "source": [
    "model2(\"avengers.jpg\", show=True)\n",
    "cv2.waitKey(0)\n",
    "cv2.destroyAllWindows()"
   ]
  },
  {
   "cell_type": "code",
   "execution_count": 7,
   "id": "3c0102d8",
   "metadata": {},
   "outputs": [
    {
     "name": "stderr",
     "output_type": "stream",
     "text": [
      "\n",
      "image 1/1 E:\\Itvedant\\Course\\08. DL NLP AI\\3. CV\\Object_Detection\\vehicle.jpg: 448x640 3 cars, 2 trucks, 904.6ms\n",
      "Speed: 16.0ms preprocess, 904.6ms inference, 16.0ms postprocess per image at shape (1, 3, 640, 640)\n"
     ]
    }
   ],
   "source": [
    "model2(\"vehicle.jpg\", show=True)\n",
    "cv2.waitKey(0)\n",
    "cv2.destroyAllWindows()"
   ]
  },
  {
   "cell_type": "code",
   "execution_count": 8,
   "id": "fe608981",
   "metadata": {},
   "outputs": [
    {
     "name": "stderr",
     "output_type": "stream",
     "text": [
      "\n",
      "image 1/1 E:\\Itvedant\\Course\\08. DL NLP AI\\3. CV\\Object_Detection\\vehicle2.jpg: 384x640 1 person, 9 cars, 2 buss, 1 truck, 582.7ms\n",
      "Speed: 7.7ms preprocess, 582.7ms inference, 0.0ms postprocess per image at shape (1, 3, 640, 640)\n"
     ]
    }
   ],
   "source": [
    "model2(\"vehicle2.jpg\", show=True)\n",
    "cv2.waitKey(0)\n",
    "cv2.destroyAllWindows()"
   ]
  },
  {
   "cell_type": "code",
   "execution_count": 9,
   "id": "a0faba0a",
   "metadata": {},
   "outputs": [
    {
     "name": "stderr",
     "output_type": "stream",
     "text": [
      "\n",
      "0: 480x640 (no detections), 777.9ms\n",
      "Speed: 17.4ms preprocess, 777.9ms inference, 3.7ms postprocess per image at shape (1, 3, 640, 640)\n",
      "\n",
      "0: 480x640 1 person, 1 tie, 809.2ms\n",
      "Speed: 30.5ms preprocess, 809.2ms inference, 0.0ms postprocess per image at shape (1, 3, 640, 640)\n",
      "\n",
      "0: 480x640 1 person, 1 tie, 851.8ms\n",
      "Speed: 7.8ms preprocess, 851.8ms inference, 0.0ms postprocess per image at shape (1, 3, 640, 640)\n",
      "\n",
      "0: 480x640 1 person, 1 tie, 924.4ms\n",
      "Speed: 8.9ms preprocess, 924.4ms inference, 5.3ms postprocess per image at shape (1, 3, 640, 640)\n",
      "\n",
      "0: 480x640 1 person, 1 tie, 727.7ms\n",
      "Speed: 17.9ms preprocess, 727.7ms inference, 3.1ms postprocess per image at shape (1, 3, 640, 640)\n",
      "\n",
      "0: 480x640 1 person, 1 tie, 703.7ms\n",
      "Speed: 5.5ms preprocess, 703.7ms inference, 5.0ms postprocess per image at shape (1, 3, 640, 640)\n",
      "\n",
      "0: 480x640 2 persons, 1 tie, 637.6ms\n",
      "Speed: 5.8ms preprocess, 637.6ms inference, 15.7ms postprocess per image at shape (1, 3, 640, 640)\n",
      "\n",
      "0: 480x640 1 person, 1 tie, 685.8ms\n",
      "Speed: 18.9ms preprocess, 685.8ms inference, 16.7ms postprocess per image at shape (1, 3, 640, 640)\n",
      "\n",
      "0: 480x640 1 person, 1 tie, 724.4ms\n",
      "Speed: 8.4ms preprocess, 724.4ms inference, 0.0ms postprocess per image at shape (1, 3, 640, 640)\n",
      "\n",
      "0: 480x640 1 person, 1 cell phone, 692.1ms\n",
      "Speed: 7.9ms preprocess, 692.1ms inference, 2.0ms postprocess per image at shape (1, 3, 640, 640)\n",
      "\n",
      "0: 480x640 1 person, 1 cell phone, 650.0ms\n",
      "Speed: 7.1ms preprocess, 650.0ms inference, 0.0ms postprocess per image at shape (1, 3, 640, 640)\n",
      "\n",
      "0: 480x640 1 person, 1 cell phone, 687.0ms\n",
      "Speed: 8.4ms preprocess, 687.0ms inference, 1.0ms postprocess per image at shape (1, 3, 640, 640)\n",
      "\n",
      "0: 480x640 1 person, 1 tie, 1 cell phone, 668.0ms\n",
      "Speed: 6.0ms preprocess, 668.0ms inference, 0.0ms postprocess per image at shape (1, 3, 640, 640)\n",
      "\n",
      "0: 480x640 1 person, 1 cell phone, 702.5ms\n",
      "Speed: 8.3ms preprocess, 702.5ms inference, 0.0ms postprocess per image at shape (1, 3, 640, 640)\n",
      "\n",
      "0: 480x640 1 person, 1 cell phone, 701.0ms\n",
      "Speed: 9.2ms preprocess, 701.0ms inference, 0.0ms postprocess per image at shape (1, 3, 640, 640)\n",
      "\n",
      "0: 480x640 1 person, 1 cell phone, 703.6ms\n",
      "Speed: 9.3ms preprocess, 703.6ms inference, 15.7ms postprocess per image at shape (1, 3, 640, 640)\n",
      "\n",
      "0: 480x640 1 person, 1 cell phone, 699.8ms\n",
      "Speed: 8.6ms preprocess, 699.8ms inference, 16.7ms postprocess per image at shape (1, 3, 640, 640)\n",
      "\n",
      "0: 480x640 1 person, 1 laptop, 663.0ms\n",
      "Speed: 7.7ms preprocess, 663.0ms inference, 0.0ms postprocess per image at shape (1, 3, 640, 640)\n",
      "\n",
      "0: 480x640 1 person, 1 laptop, 1 cell phone, 631.1ms\n",
      "Speed: 6.5ms preprocess, 631.1ms inference, 0.0ms postprocess per image at shape (1, 3, 640, 640)\n",
      "\n",
      "0: 480x640 1 person, 1 cell phone, 670.0ms\n",
      "Speed: 9.9ms preprocess, 670.0ms inference, 0.0ms postprocess per image at shape (1, 3, 640, 640)\n",
      "\n",
      "0: 480x640 2 persons, 625.1ms\n",
      "Speed: 6.8ms preprocess, 625.1ms inference, 0.0ms postprocess per image at shape (1, 3, 640, 640)\n",
      "\n",
      "0: 480x640 1 person, 674.7ms\n",
      "Speed: 7.5ms preprocess, 674.7ms inference, 13.3ms postprocess per image at shape (1, 3, 640, 640)\n",
      "\n",
      "0: 480x640 1 person, 1 laptop, 670.5ms\n",
      "Speed: 6.4ms preprocess, 670.5ms inference, 15.6ms postprocess per image at shape (1, 3, 640, 640)\n",
      "\n",
      "0: 480x640 1 person, 1 laptop, 653.4ms\n",
      "Speed: 36.6ms preprocess, 653.4ms inference, 15.6ms postprocess per image at shape (1, 3, 640, 640)\n",
      "\n",
      "0: 480x640 1 person, 716.9ms\n",
      "Speed: 6.7ms preprocess, 716.9ms inference, 9.9ms postprocess per image at shape (1, 3, 640, 640)\n",
      "\n",
      "0: 480x640 1 person, 652.6ms\n",
      "Speed: 9.6ms preprocess, 652.6ms inference, 15.0ms postprocess per image at shape (1, 3, 640, 640)\n",
      "\n",
      "0: 480x640 1 person, 1 baseball bat, 648.4ms\n",
      "Speed: 7.6ms preprocess, 648.4ms inference, 15.5ms postprocess per image at shape (1, 3, 640, 640)\n",
      "\n",
      "0: 480x640 1 person, 1 baseball bat, 651.0ms\n",
      "Speed: 7.5ms preprocess, 651.0ms inference, 1.0ms postprocess per image at shape (1, 3, 640, 640)\n",
      "\n",
      "0: 480x640 1 person, 667.2ms\n",
      "Speed: 6.7ms preprocess, 667.2ms inference, 14.3ms postprocess per image at shape (1, 3, 640, 640)\n",
      "\n",
      "0: 480x640 2 persons, 1 dog, 683.1ms\n",
      "Speed: 5.5ms preprocess, 683.1ms inference, 0.0ms postprocess per image at shape (1, 3, 640, 640)\n",
      "\n",
      "0: 480x640 2 persons, 1 scissors, 665.1ms\n",
      "Speed: 6.3ms preprocess, 665.1ms inference, 13.2ms postprocess per image at shape (1, 3, 640, 640)\n",
      "\n",
      "0: 480x640 2 persons, 667.8ms\n",
      "Speed: 8.3ms preprocess, 667.8ms inference, 0.0ms postprocess per image at shape (1, 3, 640, 640)\n",
      "\n",
      "0: 480x640 2 persons, 1 tie, 1 scissors, 622.8ms\n",
      "Speed: 10.9ms preprocess, 622.8ms inference, 0.0ms postprocess per image at shape (1, 3, 640, 640)\n",
      "\n",
      "0: 480x640 1 person, 1 scissors, 739.4ms\n",
      "Speed: 6.9ms preprocess, 739.4ms inference, 0.0ms postprocess per image at shape (1, 3, 640, 640)\n",
      "\n",
      "0: 480x640 2 persons, 865.5ms\n",
      "Speed: 8.0ms preprocess, 865.5ms inference, 19.5ms postprocess per image at shape (1, 3, 640, 640)\n",
      "\n",
      "0: 480x640 1 person, 1 tie, 867.6ms\n",
      "Speed: 8.5ms preprocess, 867.6ms inference, 0.0ms postprocess per image at shape (1, 3, 640, 640)\n",
      "\n",
      "0: 480x640 2 persons, 1 baseball bat, 667.4ms\n",
      "Speed: 6.2ms preprocess, 667.4ms inference, 0.0ms postprocess per image at shape (1, 3, 640, 640)\n",
      "\n",
      "0: 480x640 2 persons, 702.6ms\n",
      "Speed: 6.3ms preprocess, 702.6ms inference, 0.0ms postprocess per image at shape (1, 3, 640, 640)\n",
      "\n",
      "0: 480x640 1 person, 1 cat, 679.4ms\n",
      "Speed: 6.6ms preprocess, 679.4ms inference, 0.0ms postprocess per image at shape (1, 3, 640, 640)\n",
      "\n",
      "0: 480x640 2 persons, 1 dog, 773.0ms\n",
      "Speed: 6.5ms preprocess, 773.0ms inference, 0.0ms postprocess per image at shape (1, 3, 640, 640)\n",
      "\n",
      "0: 480x640 1 person, 1 cat, 662.5ms\n",
      "Speed: 5.3ms preprocess, 662.5ms inference, 0.0ms postprocess per image at shape (1, 3, 640, 640)\n",
      "\n",
      "0: 480x640 1 person, 1 chair, 1 toothbrush, 632.5ms\n",
      "Speed: 19.5ms preprocess, 632.5ms inference, 3.0ms postprocess per image at shape (1, 3, 640, 640)\n",
      "\n",
      "0: 480x640 1 person, 1 chair, 653.9ms\n",
      "Speed: 8.7ms preprocess, 653.9ms inference, 15.3ms postprocess per image at shape (1, 3, 640, 640)\n",
      "\n",
      "0: 480x640 1 person, 691.8ms\n",
      "Speed: 2.0ms preprocess, 691.8ms inference, 0.0ms postprocess per image at shape (1, 3, 640, 640)\n",
      "\n",
      "0: 480x640 1 person, 902.4ms\n",
      "Speed: 6.2ms preprocess, 902.4ms inference, 0.0ms postprocess per image at shape (1, 3, 640, 640)\n",
      "\n",
      "0: 480x640 1 person, 700.3ms\n",
      "Speed: 6.6ms preprocess, 700.3ms inference, 0.0ms postprocess per image at shape (1, 3, 640, 640)\n",
      "\n",
      "0: 480x640 1 person, 724.4ms\n",
      "Speed: 6.5ms preprocess, 724.4ms inference, 10.1ms postprocess per image at shape (1, 3, 640, 640)\n",
      "\n",
      "0: 480x640 1 person, 674.2ms\n",
      "Speed: 7.1ms preprocess, 674.2ms inference, 0.0ms postprocess per image at shape (1, 3, 640, 640)\n",
      "\n",
      "0: 480x640 1 person, 1 toothbrush, 682.6ms\n",
      "Speed: 6.6ms preprocess, 682.6ms inference, 1.0ms postprocess per image at shape (1, 3, 640, 640)\n",
      "\n",
      "0: 480x640 1 person, 1 chair, 630.3ms\n",
      "Speed: 6.0ms preprocess, 630.3ms inference, 0.0ms postprocess per image at shape (1, 3, 640, 640)\n",
      "\n",
      "0: 480x640 1 person, 1 chair, 721.2ms\n",
      "Speed: 11.8ms preprocess, 721.2ms inference, 0.0ms postprocess per image at shape (1, 3, 640, 640)\n",
      "\n",
      "0: 480x640 1 person, 1 chair, 673.0ms\n",
      "Speed: 8.1ms preprocess, 673.0ms inference, 0.0ms postprocess per image at shape (1, 3, 640, 640)\n",
      "\n",
      "0: 480x640 2 persons, 1 chair, 667.6ms\n",
      "Speed: 3.2ms preprocess, 667.6ms inference, 15.6ms postprocess per image at shape (1, 3, 640, 640)\n",
      "\n",
      "0: 480x640 1 person, 688.5ms\n",
      "Speed: 4.2ms preprocess, 688.5ms inference, 0.0ms postprocess per image at shape (1, 3, 640, 640)\n",
      "\n",
      "0: 480x640 2 persons, 680.8ms\n",
      "Speed: 4.4ms preprocess, 680.8ms inference, 0.0ms postprocess per image at shape (1, 3, 640, 640)\n",
      "\n",
      "0: 480x640 2 persons, 679.8ms\n",
      "Speed: 6.2ms preprocess, 679.8ms inference, 18.8ms postprocess per image at shape (1, 3, 640, 640)\n",
      "\n",
      "0: 480x640 1 person, 651.3ms\n",
      "Speed: 5.0ms preprocess, 651.3ms inference, 0.0ms postprocess per image at shape (1, 3, 640, 640)\n",
      "\n",
      "0: 480x640 1 person, 662.5ms\n",
      "Speed: 3.5ms preprocess, 662.5ms inference, 1.0ms postprocess per image at shape (1, 3, 640, 640)\n",
      "\n",
      "0: 480x640 1 person, 1 cell phone, 637.6ms\n",
      "Speed: 7.3ms preprocess, 637.6ms inference, 8.7ms postprocess per image at shape (1, 3, 640, 640)\n",
      "\n",
      "0: 480x640 2 persons, 655.1ms\n",
      "Speed: 7.5ms preprocess, 655.1ms inference, 0.0ms postprocess per image at shape (1, 3, 640, 640)\n",
      "\n",
      "0: 480x640 2 persons, 640.3ms\n"
     ]
    },
    {
     "name": "stderr",
     "output_type": "stream",
     "text": [
      "Speed: 2.0ms preprocess, 640.3ms inference, 16.8ms postprocess per image at shape (1, 3, 640, 640)\n",
      "\n",
      "0: 480x640 1 person, 681.8ms\n",
      "Speed: 7.1ms preprocess, 681.8ms inference, 10.5ms postprocess per image at shape (1, 3, 640, 640)\n",
      "\n",
      "0: 480x640 2 persons, 1 donut, 722.0ms\n",
      "Speed: 4.0ms preprocess, 722.0ms inference, 1.2ms postprocess per image at shape (1, 3, 640, 640)\n",
      "\n",
      "0: 480x640 1 person, 650.5ms\n",
      "Speed: 4.4ms preprocess, 650.5ms inference, 2.0ms postprocess per image at shape (1, 3, 640, 640)\n",
      "\n",
      "0: 480x640 1 person, 1 tie, 1 donut, 670.8ms\n",
      "Speed: 4.2ms preprocess, 670.8ms inference, 1.0ms postprocess per image at shape (1, 3, 640, 640)\n",
      "\n",
      "0: 480x640 1 person, 1 tie, 645.3ms\n",
      "Speed: 5.8ms preprocess, 645.3ms inference, 0.0ms postprocess per image at shape (1, 3, 640, 640)\n",
      "\n",
      "0: 480x640 1 person, 1 skateboard, 679.4ms\n",
      "Speed: 4.4ms preprocess, 679.4ms inference, 14.9ms postprocess per image at shape (1, 3, 640, 640)\n",
      "\n",
      "0: 480x640 1 person, 621.5ms\n",
      "Speed: 5.0ms preprocess, 621.5ms inference, 0.0ms postprocess per image at shape (1, 3, 640, 640)\n",
      "\n",
      "0: 480x640 1 person, 661.4ms\n",
      "Speed: 7.0ms preprocess, 661.4ms inference, 12.3ms postprocess per image at shape (1, 3, 640, 640)\n",
      "\n",
      "0: 480x640 1 person, 623.5ms\n",
      "Speed: 6.8ms preprocess, 623.5ms inference, 14.1ms postprocess per image at shape (1, 3, 640, 640)\n",
      "\n",
      "0: 480x640 1 person, 669.8ms\n",
      "Speed: 6.5ms preprocess, 669.8ms inference, 0.0ms postprocess per image at shape (1, 3, 640, 640)\n",
      "\n",
      "0: 480x640 1 person, 678.9ms\n",
      "Speed: 6.3ms preprocess, 678.9ms inference, 0.0ms postprocess per image at shape (1, 3, 640, 640)\n",
      "\n",
      "0: 480x640 1 person, 675.8ms\n",
      "Speed: 8.3ms preprocess, 675.8ms inference, 17.2ms postprocess per image at shape (1, 3, 640, 640)\n",
      "\n",
      "0: 480x640 1 person, 1 tie, 688.5ms\n",
      "Speed: 6.5ms preprocess, 688.5ms inference, 0.0ms postprocess per image at shape (1, 3, 640, 640)\n",
      "\n",
      "0: 480x640 1 person, 1 skateboard, 635.5ms\n",
      "Speed: 7.0ms preprocess, 635.5ms inference, 0.0ms postprocess per image at shape (1, 3, 640, 640)\n",
      "\n",
      "0: 480x640 1 person, 1 tie, 691.6ms\n",
      "Speed: 5.7ms preprocess, 691.6ms inference, 12.5ms postprocess per image at shape (1, 3, 640, 640)\n",
      "\n",
      "0: 480x640 1 person, 1 chair, 671.2ms\n",
      "Speed: 5.7ms preprocess, 671.2ms inference, 10.0ms postprocess per image at shape (1, 3, 640, 640)\n"
     ]
    }
   ],
   "source": [
    "cap = cv2.VideoCapture(0)\n",
    "while True:\n",
    "    flag, frame = cap.read()\n",
    "    results = model2(frame, stream=True, show=False)\n",
    "    for result in results:\n",
    "        boxes = result.boxes\n",
    "        for box in boxes:\n",
    "           x1,y1,x2,y2 = box.xyxy.numpy()[0]\n",
    "           cv2.rectangle(frame,(int(x1),int(y1)),(int(x2),int(y2)),(255,0,0),3)\n",
    "           cv2.putText(frame,result.names[int(box.cls)],(int(x1),int(y1)),cv2.FONT_HERSHEY_SIMPLEX,1,(0,255,0),2)\n",
    "    cv2.imshow(\"obj\",frame)\n",
    "    if cv2.waitKey(1) & 0xFF == ord('q'):\n",
    "        break\n",
    "cap.release()\n",
    "cv2.destroyAllWindows()"
   ]
  }
 ],
 "metadata": {
  "kernelspec": {
   "display_name": "Python 3 (ipykernel)",
   "language": "python",
   "name": "python3"
  },
  "language_info": {
   "codemirror_mode": {
    "name": "ipython",
    "version": 3
   },
   "file_extension": ".py",
   "mimetype": "text/x-python",
   "name": "python",
   "nbconvert_exporter": "python",
   "pygments_lexer": "ipython3",
   "version": "3.11.3"
  }
 },
 "nbformat": 4,
 "nbformat_minor": 5
}
